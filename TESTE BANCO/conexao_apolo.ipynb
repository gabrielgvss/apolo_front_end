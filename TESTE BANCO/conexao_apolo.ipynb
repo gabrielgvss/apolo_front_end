{
 "cells": [
  {
   "cell_type": "code",
   "execution_count": 3,
   "id": "38d998d1",
   "metadata": {},
   "outputs": [
    {
     "name": "stdout",
     "output_type": "stream",
     "text": [
      "Collecting mysql-connector-pythonNote: you may need to restart the kernel to use updated packages.\n",
      "\n",
      "  Obtaining dependency information for mysql-connector-python from https://files.pythonhosted.org/packages/d3/b8/6798a0f91e595c0704a94c1e32a00ca930f77cb8f0f96c7e4dad4f9db1fe/mysql_connector_python-8.1.0-cp311-cp311-win_amd64.whl.metadata\n",
      "  Downloading mysql_connector_python-8.1.0-cp311-cp311-win_amd64.whl.metadata (2.1 kB)\n",
      "Collecting protobuf<=4.21.12,>=4.21.1 (from mysql-connector-python)\n",
      "  Downloading protobuf-4.21.12-cp310-abi3-win_amd64.whl (527 kB)\n",
      "     ---------------------------------------- 0.0/527.0 kB ? eta -:--:--\n",
      "      --------------------------------------- 10.2/527.0 kB ? eta -:--:--\n",
      "     -- ---------------------------------- 41.0/527.0 kB 653.6 kB/s eta 0:00:01\n",
      "     -------------- ----------------------- 204.8/527.0 kB 2.1 MB/s eta 0:00:01\n",
      "     -------------------------------------  522.2/527.0 kB 4.1 MB/s eta 0:00:01\n",
      "     -------------------------------------- 527.0/527.0 kB 3.7 MB/s eta 0:00:00\n",
      "Downloading mysql_connector_python-8.1.0-cp311-cp311-win_amd64.whl (10.8 MB)\n",
      "   ---------------------------------------- 0.0/10.8 MB ? eta -:--:--\n",
      "   --- ------------------------------------ 0.9/10.8 MB 18.5 MB/s eta 0:00:01\n",
      "   ------- -------------------------------- 2.1/10.8 MB 26.7 MB/s eta 0:00:01\n",
      "   ------------- -------------------------- 3.7/10.8 MB 29.2 MB/s eta 0:00:01\n",
      "   ------------------- -------------------- 5.3/10.8 MB 33.8 MB/s eta 0:00:01\n",
      "   ----------------------- ---------------- 6.3/10.8 MB 33.6 MB/s eta 0:00:01\n",
      "   ------------------------- -------------- 6.8/10.8 MB 27.2 MB/s eta 0:00:01\n",
      "   ------------------------------ --------- 8.4/10.8 MB 29.8 MB/s eta 0:00:01\n",
      "   ------------------------------------- -- 10.1/10.8 MB 30.7 MB/s eta 0:00:01\n",
      "   ---------------------------------------  10.8/10.8 MB 32.8 MB/s eta 0:00:01\n",
      "   ---------------------------------------- 10.8/10.8 MB 28.5 MB/s eta 0:00:00\n",
      "Installing collected packages: protobuf, mysql-connector-python\n",
      "Successfully installed mysql-connector-python-8.1.0 protobuf-4.21.12\n"
     ]
    }
   ],
   "source": [
    "pip install mysql-connector-python"
   ]
  },
  {
   "cell_type": "code",
   "execution_count": 5,
   "id": "32830fb4",
   "metadata": {},
   "outputs": [],
   "source": [
    "import mysql.connector\n",
    "from mysql.connector import Error\n",
    "import pandas as pd"
   ]
  },
  {
   "cell_type": "code",
   "execution_count": 18,
   "id": "0ceaf47f",
   "metadata": {},
   "outputs": [],
   "source": [
    "def criar_conexao_servidor(host_name, user_name, user_password, database_name):\n",
    "    conexao = None\n",
    "    try:\n",
    "        conexao = mysql.connector.connect(\n",
    "            host=host_name,\n",
    "            user=user_name,\n",
    "            passwd=user_password,\n",
    "            database=database_name\n",
    "        )\n",
    "        print(\"MySQL DB conectado com sucesso\")\n",
    "    except Error as err:\n",
    "        print(f\"Erro: '{err}'\")\n",
    "    \n",
    "    return conexao"
   ]
  },
  {
   "cell_type": "code",
   "execution_count": 19,
   "id": "81e664b3",
   "metadata": {},
   "outputs": [
    {
     "name": "stdout",
     "output_type": "stream",
     "text": [
      "MySQL DB conectado com sucesso\n"
     ]
    }
   ],
   "source": [
    "conexao = criar_conexao_servidor(\"localhost\", \"root\", 'gv031199', 'apolo_db')"
   ]
  },
  {
   "cell_type": "markdown",
   "id": "bdd771d8",
   "metadata": {},
   "source": [
    "cursor = conexao.cursor()\n",
    "\n",
    "inserir_cliente = \"INSERT INTO CLIENTE (NomeCliente, NumeroCliente, EnderecoCliente) VALUES (%s, %s, %s)\"\n",
    "valores_cliente = (\"cliente5\", \"52345\", \"Camboa\")\n",
    "cursor.execute(inserir_cliente, valores_cliente)\n",
    "conexao.commit()"
   ]
  },
  {
   "cell_type": "code",
   "execution_count": null,
   "id": "ec9473d3",
   "metadata": {},
   "outputs": [],
   "source": [
    "inserir_funcionario = \"INSERT INTO FUNCIONARIO (NomeFuncionario, NumeroFuncionario, EnderecoFuncionario, DiariaFuncionario) VALUES (%s, %s, %s, %s)\"\n",
    "valores_funcionario = (\"Jeferson Pé de Pato\", \"98441\", \"Ivar Saldanha\", 80)\n",
    "cursor.execute(inserir_funcionario, valores_funcionario)\n",
    "conexao.commit()"
   ]
  },
  {
   "cell_type": "code",
   "execution_count": 37,
   "id": "364dbc73",
   "metadata": {},
   "outputs": [],
   "source": [
    "inserir_servico = \"INSERT INTO SERVICO (NomeServico, PrecoServico) VALUES (%s, %s)\"\n",
    "valores_servico = (\"Elétrica\", 120)\n",
    "cursor.execute(inserir_servico, valores_servico)\n",
    "conexao.commit()"
   ]
  },
  {
   "cell_type": "code",
   "execution_count": 40,
   "id": "7cf57288",
   "metadata": {},
   "outputs": [],
   "source": [
    "inserir_custo = \"INSERT INTO CUSTO (DescCusto, ValorCusto) VALUES (%s, %s)\"\n",
    "valores_custo = (\"Gasolina\", 150)\n",
    "cursor.execute(inserir_custo, valores_custo)\n",
    "conexao.commit()"
   ]
  },
  {
   "cell_type": "code",
   "execution_count": 46,
   "id": "065111f6",
   "metadata": {},
   "outputs": [],
   "source": [
    "inserir_data = \"INSERT INTO DATA (DiaData) VALUES (%s)\"\n",
    "valores_data = (\"2023-08-01\",)\n",
    "cursor.execute(inserir_data, valores_data)\n",
    "conexao.commit()"
   ]
  },
  {
   "cell_type": "code",
   "execution_count": 52,
   "id": "57f94f44",
   "metadata": {},
   "outputs": [],
   "source": [
    "inserir_prestacao = \"INSERT INTO PRESTACAO (Adicional, IDServico, IDCliente) VALUES (%s, %s, %s)\"\n",
    "valores_prestacao = (30, \"1\", \"4\")\n",
    "cursor.execute(inserir_prestacao, valores_prestacao)\n",
    "conexao.commit()\n"
   ]
  },
  {
   "cell_type": "code",
   "execution_count": 62,
   "id": "47d00923",
   "metadata": {},
   "outputs": [],
   "source": [
    "inserir_prest_func = \"INSERT INTO FUNCIONARIO_PRESTACAO (IDFuncionario, IDPrestacao) VALUES (%s, %s)\"\n",
    "valores_prest_func = (1,4)\n",
    "cursor.execute(inserir_prest_func, valores_prest_func)\n",
    "conexao.commit()"
   ]
  },
  {
   "cell_type": "code",
   "execution_count": 69,
   "id": "43cf5824",
   "metadata": {},
   "outputs": [],
   "source": [
    "inserir_prest_custo = \"INSERT INTO PRESTACAO_CUSTO (IDPrestacao, IDCusto) VALUES (%s, %s)\"\n",
    "valores_prest_custo = (1,1)\n",
    "cursor.execute(inserir_prest_custo, valores_prest_custo)\n",
    "conexao.commit()"
   ]
  },
  {
   "cell_type": "code",
   "execution_count": 76,
   "id": "49138e88",
   "metadata": {},
   "outputs": [],
   "source": [
    "inserir_prest_data = \"INSERT INTO PRESTACAO_DATA (IDPrestacao, IDData) VALUES (%s, %s)\"\n",
    "valores_prest_data = (4,3)\n",
    "cursor.execute(inserir_prest_data, valores_prest_data)\n",
    "conexao.commit()"
   ]
  }
 ],
 "metadata": {
  "kernelspec": {
   "display_name": "Python 3 (ipykernel)",
   "language": "python",
   "name": "python3"
  },
  "language_info": {
   "codemirror_mode": {
    "name": "ipython",
    "version": 3
   },
   "file_extension": ".py",
   "mimetype": "text/x-python",
   "name": "python",
   "nbconvert_exporter": "python",
   "pygments_lexer": "ipython3",
   "version": "3.11.5"
  }
 },
 "nbformat": 4,
 "nbformat_minor": 5
}
